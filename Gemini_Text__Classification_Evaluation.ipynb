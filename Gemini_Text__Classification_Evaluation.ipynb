{
  "cells": [
    {
      "cell_type": "markdown",
      "metadata": {
        "id": "view-in-github",
        "colab_type": "text"
      },
      "source": [
        "<a href=\"https://colab.research.google.com/github/rahulprasanth487/LLM-Performance-Evaluation/blob/main/Gemini_Text__Classification_Evaluation.ipynb\" target=\"_parent\"><img src=\"https://colab.research.google.com/assets/colab-badge.svg\" alt=\"Open In Colab\"/></a>"
      ]
    },
    {
      "cell_type": "markdown",
      "metadata": {
        "id": "Tce3stUlHN0L"
      },
      "source": [
        "##### Copyright 2023 Google LLC"
      ]
    },
    {
      "cell_type": "code",
      "execution_count": null,
      "metadata": {
        "cellView": "form",
        "id": "tuOe1ymfHZPu"
      },
      "outputs": [],
      "source": [
        "#@title Licensed under the Apache License, Version 2.0 (the \"License\");\n",
        "# you may not use this file except in compliance with the License.\n",
        "# You may obtain a copy of the License at\n",
        "#\n",
        "# https://www.apache.org/licenses/LICENSE-2.0\n",
        "#\n",
        "# Unless required by applicable law or agreed to in writing, software\n",
        "# distributed under the License is distributed on an \"AS IS\" BASIS,\n",
        "# WITHOUT WARRANTIES OR CONDITIONS OF ANY KIND, either express or implied.\n",
        "# See the License for the specific language governing permissions and\n",
        "# limitations under the License."
      ]
    },
    {
      "cell_type": "markdown",
      "metadata": {
        "id": "FKwyTRdwB8aW"
      },
      "source": [
        "## Setup"
      ]
    },
    {
      "cell_type": "markdown",
      "metadata": {
        "id": "rlE8UqxrDIez"
      },
      "source": [
        "### Install & import\n"
      ]
    },
    {
      "cell_type": "code",
      "execution_count": 70,
      "metadata": {
        "id": "cZiU4TKzznh9"
      },
      "outputs": [],
      "source": [
        "!pip install -U -q google-generativeai"
      ]
    },
    {
      "cell_type": "code",
      "execution_count": 71,
      "metadata": {
        "id": "kWIuwKG2_oWE"
      },
      "outputs": [],
      "source": [
        "# import necessary modules.\n",
        "import google.generativeai as genai\n",
        "import json\n",
        "import base64\n",
        "import pathlib\n",
        "import pprint\n",
        "import requests\n",
        "import mimetypes\n",
        "from IPython.display import Markdown"
      ]
    },
    {
      "cell_type": "code",
      "source": [],
      "metadata": {
        "id": "PrNDJoyyt8gh"
      },
      "execution_count": 71,
      "outputs": []
    },
    {
      "cell_type": "code",
      "source": [
        "Convo={\n",
        "    1:\"\"\"\n",
        "    Ordering Food:\n",
        "\n",
        "Customer: Hi, I'd like a large pepperoni pizza and a side of garlic knots, please.\n",
        "\n",
        "Employee: Sure, would you like anything to drink with that?\n",
        "\n",
        "Customer: Yes, a large Coke, please.\n",
        "\n",
        "Employee: Okay, your total comes to $23.50.\n",
        "\n",
        "Customer: Great, thanks!\n",
        "    \"\"\",\n",
        "\n",
        "    2:\"\"\"\n",
        "    Discussing a Movie:\n",
        "\n",
        "Friend 1: Did you see that new sci-fi movie everyone's talking about?\n",
        "\n",
        "Friend 2: Yeah, I saw it last night. I thought the special effects were amazing!\n",
        "\n",
        "Friend 1: Totally! But the plot was a bit confusing, don't you think?\n",
        "\n",
        "Friend 2: I agree, it got a little lost in the middle. But overall, I enjoyed it.\n",
        "    \"\"\",\n",
        "    3:\"\"\"\n",
        "    Argument with a Partner:\n",
        "\n",
        "Partner 1: You promised you'd be home by 10!\n",
        "\n",
        "Partner 2: I know, I'm sorry. My meeting ran late.\n",
        "\n",
        "Partner 1: This is the third time this week! You need to be more considerate of my time.\n",
        "\n",
        "Partner 2: I understand, and I apologize. I'll try my best to be on time next time.\n",
        "    \"\"\",\n",
        "    4:\"\"\"\n",
        "    Sharing Good News:\n",
        "\n",
        "Friend: Guess what! I got the job!\n",
        "\n",
        "Other Friend: Oh my god, that's amazing! I'm so happy for you!\n",
        "\n",
        "Friend: I know, I can't believe it! I'm so excited to start.\n",
        "\n",
        "Other Friend: You deserve it! We should celebrate soon.\n",
        "\n",
        "Emotions: Joy, excitement, happiness, pride.\n",
        "    \"\"\",\n",
        "    5:\"\"\"\n",
        "    Comforting a Friend:\n",
        "\n",
        "Friend: I'm feeling so down today.\n",
        "\n",
        "Other Friend: What's wrong?\n",
        "\n",
        "Friend: I just feel overwhelmed with everything going on.\n",
        "\n",
        "Other Friend: I understand. It's okay to feel overwhelmed sometimes. Just know that I'm here for you, and I'm happy to listen if you want to talk.\n",
        "    \"\"\",\n",
        "\n",
        "}"
      ],
      "metadata": {
        "id": "JLV55CJWt8j0"
      },
      "execution_count": 72,
      "outputs": []
    },
    {
      "cell_type": "code",
      "source": [
        "references=[\"Emotions: Neutral, polite.\",\n",
        "            \"Emotions: Excitement, curiosity, slight confusion.\",\n",
        "            \"Emotions: Anger, frustration, disappointment, regret.\",\n",
        "            \"Emotions: Joy, excitement, happiness, pride.\",\n",
        "            \"Emotions: Sadness, worry, empathy, support.\"\n",
        "            ]"
      ],
      "metadata": {
        "id": "28WN7jDYvEeZ"
      },
      "execution_count": 73,
      "outputs": []
    },
    {
      "cell_type": "markdown",
      "metadata": {
        "id": "ZoRWILAtCzBE"
      },
      "source": [
        "Add your API_KEY to the secrets manager in the left pannel \"🔑\"."
      ]
    },
    {
      "cell_type": "code",
      "execution_count": 74,
      "metadata": {
        "id": "LaLCwNlkCyQd"
      },
      "outputs": [],
      "source": [
        "from google.colab import userdata\n",
        "\n",
        "API_KEY=userdata.get('API_KEY')"
      ]
    },
    {
      "cell_type": "code",
      "execution_count": 87,
      "metadata": {
        "id": "_SvYoR3WCeKr"
      },
      "outputs": [],
      "source": [
        "\n",
        "genai.configure(api_key=API_KEY)\n",
        "\n",
        "predictions=[]"
      ]
    },
    {
      "cell_type": "code",
      "source": [
        "\n",
        "import base64\n",
        "\n",
        "for i in range(1,6):\n",
        "    input_string =\"Find the emotion exhibited in the conversationin the format of 'Emotions: xcitement, curiosity, slight confusion.':\\n\"+Convo[i]\n",
        "\n",
        "    encoded_bytes = base64.b64encode(input_string.encode(\"utf-8\"))\n",
        "\n",
        "    encoded_string = encoded_bytes.decode(\"utf-8\")\n",
        "\n",
        "    model = 'gemini-1.0-pro'\n",
        "    contents_b64 = 'W3sicm9sZSI6InVzZXIiLCJwYXJ0cyI6IldoYXQgaXMgdGhlIGZhc3Rlc3QgY2FyIGluIHRoZSB3b3JsZCBhbmQgbWVudGlvbiBpdHMgc3BlY2lmaWNhdGlvbnM/In0seyJyb2xlIjoibW9kZWwiLCJwYXJ0cyI6IuKAiyJ9XQ=='\n",
        "    generation_config_b64 = 'eyJ0ZW1wZXJhdHVyZSI6MC45LCJ0b3BfcCI6MSwidG9wX2siOjEsIm1heF9vdXRwdXRfdG9rZW5zIjoyMDQ4LCJzdG9wX3NlcXVlbmNlcyI6W119'\n",
        "    safety_settings_b64 = 'W3siY2F0ZWdvcnkiOiJIQVJNX0NBVEVHT1JZX0hBUkFTU01FTlQiLCJ0aHJlc2hvbGQiOiJCTE9DS19NRURJVU1fQU5EX0FCT1ZFIn0seyJjYXRlZ29yeSI6IkhBUk1fQ0FURUdPUllfSEFURV9TUEVFQ0giLCJ0aHJlc2hvbGQiOiJCTE9DS19NRURJVU1fQU5EX0FCT1ZFIn0seyJjYXRlZ29yeSI6IkhBUk1fQ0FURUdPUllfU0VYVUFMTFlfRVhQTElDSVQiLCJ0aHJlc2hvbGQiOiJCTE9DS19NRURJVU1fQU5EX0FCT1ZFIn0seyJjYXRlZ29yeSI6IkhBUk1fQ0FURUdPUllfREFOR0VST1VTX0NPTlRFTlQiLCJ0aHJlc2hvbGQiOiJCTE9DS19NRURJVU1fQU5EX0FCT1ZFIn1d'\n",
        "    user_input_b64 = encoded_string\n",
        "\n",
        "    contents = json.loads(base64.b64decode(contents_b64))\n",
        "    generation_config = json.loads(base64.b64decode(generation_config_b64))\n",
        "    safety_settings = json.loads(base64.b64decode(safety_settings_b64))\n",
        "    user_input = base64.b64decode(user_input_b64).decode()\n",
        "    stream = False\n",
        "\n",
        "    # Call the model and print the response.\n",
        "    gemini = genai.GenerativeModel(model_name=model)\n",
        "\n",
        "    chat = gemini.start_chat(history=contents)\n",
        "\n",
        "    response = chat.send_message(\n",
        "        user_input,\n",
        "        stream=stream)\n",
        "\n",
        "    predictions.append(response.text)\n"
      ],
      "metadata": {
        "id": "R_o3CQHqItaS"
      },
      "execution_count": 88,
      "outputs": []
    },
    {
      "cell_type": "markdown",
      "metadata": {
        "id": "weo-o73WDpdm"
      },
      "source": [
        "### Parse the arguments"
      ]
    },
    {
      "cell_type": "code",
      "execution_count": 88,
      "metadata": {
        "id": "uIog-0SyDuIF"
      },
      "outputs": [],
      "source": []
    },
    {
      "cell_type": "code",
      "execution_count": 89,
      "metadata": {
        "id": "4d17bac9fefc"
      },
      "outputs": [],
      "source": [
        "# user_input"
      ]
    },
    {
      "cell_type": "code",
      "source": [
        "predictions"
      ],
      "metadata": {
        "colab": {
          "base_uri": "https://localhost:8080/"
        },
        "id": "jhq2z7MUwIs0",
        "outputId": "feddd1c3-e513-483c-c6fb-fb14d60d0393"
      },
      "execution_count": 90,
      "outputs": [
        {
          "output_type": "execute_result",
          "data": {
            "text/plain": [
              "['Emotions: Slight confusion (about the drink options), excitement (about the food), curiosity (about the price).',\n",
              " 'Emotions: Excitement, curiosity, slight confusion.',\n",
              " 'Emotions: Slight confusion, slight frustration.',\n",
              " 'Emotions: Excitement, happiness, slight confusion.',\n",
              " 'Emotions: Concern, empathy, support.']"
            ]
          },
          "metadata": {},
          "execution_count": 90
        }
      ]
    },
    {
      "cell_type": "code",
      "source": [
        "references"
      ],
      "metadata": {
        "colab": {
          "base_uri": "https://localhost:8080/"
        },
        "id": "xwi4AA12wYvF",
        "outputId": "274594d5-74be-4269-e7f8-39e717afc478"
      },
      "execution_count": 86,
      "outputs": [
        {
          "output_type": "execute_result",
          "data": {
            "text/plain": [
              "['Emotions: Neutral, polite.',\n",
              " 'Emotions: Excitement, curiosity, slight confusion.',\n",
              " 'Emotions: Anger, frustration, disappointment, regret.',\n",
              " 'Emotions: Joy, excitement, happiness, pride.',\n",
              " 'Emotions: Sadness, worry, empathy, support.']"
            ]
          },
          "metadata": {},
          "execution_count": 86
        }
      ]
    },
    {
      "cell_type": "code",
      "source": [
        "# !pip install evaluate\n",
        "# !pip install rouge-score"
      ],
      "metadata": {
        "id": "9vt0xT0LxRSB"
      },
      "execution_count": 91,
      "outputs": []
    },
    {
      "cell_type": "code",
      "source": [
        "import evaluate\n",
        "rouge = evaluate.load('rouge')\n",
        "\n",
        "results = rouge.compute(predictions=predictions, references=references)\n",
        "print(results)"
      ],
      "metadata": {
        "colab": {
          "base_uri": "https://localhost:8080/"
        },
        "id": "1mK8JxZRxcVy",
        "outputId": "b15afafc-bd47-4c03-ba76-d4f0e7447016"
      },
      "execution_count": 92,
      "outputs": [
        {
          "output_type": "stream",
          "name": "stdout",
          "text": [
            "{'rouge1': 0.5555555555555556, 'rouge2': 0.3, 'rougeL': 0.5599999999999999, 'rougeLsum': 0.5555555555555556}\n"
          ]
        }
      ]
    },
    {
      "cell_type": "code",
      "source": [
        "import evaluate\n",
        "rouge = evaluate.load('bleu')\n",
        "\n",
        "results = rouge.compute(predictions=predictions, references=references)\n",
        "print(results)"
      ],
      "metadata": {
        "colab": {
          "base_uri": "https://localhost:8080/"
        },
        "id": "cAWTUP_kxquA",
        "outputId": "4beb3775-3e63-4d28-e418-77472c2cf51c"
      },
      "execution_count": 93,
      "outputs": [
        {
          "output_type": "stream",
          "name": "stdout",
          "text": [
            "{'bleu': 0.29077401001376546, 'precisions': [0.5254237288135594, 0.3333333333333333, 0.22448979591836735, 0.18181818181818182], 'brevity_penalty': 1.0, 'length_ratio': 1.3111111111111111, 'translation_length': 59, 'reference_length': 45}\n"
          ]
        }
      ]
    },
    {
      "cell_type": "code",
      "source": [
        "from sklearn.feature_extraction.text import TfidfVectorizer\n",
        "from sklearn.metrics.pairwise import cosine_similarity\n",
        "\n",
        "def cosine_similarity_sentences(sentence1, sentence2):\n",
        "    tfidf_vectorizer = TfidfVectorizer()\n",
        "    # Fit and transform the sentences into TF-IDF vectors\n",
        "    tfidf_matrix = tfidf_vectorizer.fit_transform([sentence1, sentence2])\n",
        "    # Calculate cosine similarity between the vectors\n",
        "    similarity = cosine_similarity(tfidf_matrix[0], tfidf_matrix[1])\n",
        "    return similarity[0][0]\n",
        "\n",
        "\n",
        "for i in range(0,5):\n",
        "  similarity_score = cosine_similarity_sentences(predictions[i],references[i])\n",
        "  print(i+1,\" \", similarity_score)\n"
      ],
      "metadata": {
        "colab": {
          "base_uri": "https://localhost:8080/"
        },
        "id": "6y9mEV5iy7Ou",
        "outputId": "042413f3-afe5-4c1f-a7b0-c482dca308b6"
      },
      "execution_count": 94,
      "outputs": [
        {
          "output_type": "stream",
          "name": "stdout",
          "text": [
            "1   0.06211179713981931\n",
            "2   1.0000000000000002\n",
            "3   0.20613696606828605\n",
            "4   0.43161341897075156\n",
            "5   0.5101490193104813\n"
          ]
        }
      ]
    },
    {
      "cell_type": "code",
      "source": [],
      "metadata": {
        "id": "Plz1qTue1M8J"
      },
      "execution_count": 83,
      "outputs": []
    }
  ],
  "metadata": {
    "colab": {
      "collapsed_sections": [
        "Tce3stUlHN0L"
      ],
      "provenance": [],
      "include_colab_link": true
    },
    "kernelspec": {
      "display_name": "Python 3",
      "name": "python3"
    }
  },
  "nbformat": 4,
  "nbformat_minor": 0
}